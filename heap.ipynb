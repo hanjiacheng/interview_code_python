{
 "cells": [
  {
   "cell_type": "code",
   "execution_count": 2,
   "metadata": {
    "collapsed": true
   },
   "outputs": [
    {
     "name": "stdout",
     "output_type": "stream",
     "text": [
      "hello\n"
     ]
    }
   ],
   "source": [
    "\n",
    "\n",
    "class Heap:\n",
    "    def __init__(self, maxsize):\n",
    "        self.data = []\n",
    "\n",
    "    def get_max(self, index1, index2, index3):\n",
    "        max_index = -1\n",
    "        if self.data[index1] > self.data[index2]:\n",
    "            max_index = index2\n",
    "        else:\n",
    "            max_index = index1\n",
    "\n",
    "        if self.data[max_index] > self.data[index3]:\n",
    "            max_index = index3\n",
    "        return max_index\n",
    "\n",
    "\n",
    "    def sink(self, k):\n",
    "        while(self.get_left_child(k) <=N):\n",
    "            max_index = self.get_max(k,self.get_right_child(k), self.get_left_child(k))\n",
    "            self.swap(max_index, k)\n",
    "            k = max_index\n",
    "\n",
    "\n",
    "    def swim(self, k):\n",
    "        while(k > 1 and self.parent(k) < k):\n",
    "            self.swap(k, self.parent(k))\n",
    "            k = self.parent(k)\n",
    "\n",
    "    def swap(self, index1, index2):\n",
    "        tmp = self.data[index1]\n",
    "        self.data[index1] = self.data[index2]\n",
    "        self.data[index2] = tmp\n",
    "\n",
    "    # 获取索引k的父结点\n",
    "    def parent(self, k):\n",
    "        return k/2\n",
    "\n",
    "    # 获取索引k的左孩子\n",
    "    def get_left_child(self, k):\n",
    "        return 2*k\n",
    "\n",
    "    # 获取索引k的右孩子\n",
    "    def get_right_child(self, k):\n",
    "        return 2*k+1"
   ]
  }
 ],
 "metadata": {
  "kernelspec": {
   "display_name": "Python 3",
   "language": "python",
   "name": "python3"
  },
  "language_info": {
   "codemirror_mode": {
    "name": "ipython",
    "version": 2
   },
   "file_extension": ".py",
   "mimetype": "text/x-python",
   "name": "python",
   "nbconvert_exporter": "python",
   "pygments_lexer": "ipython2",
   "version": "2.7.6"
  }
 },
 "nbformat": 4,
 "nbformat_minor": 0
}